{
 "cells": [
  {
   "cell_type": "code",
   "execution_count": 1,
   "metadata": {},
   "outputs": [
    {
     "data": {
      "text/html": [
       "<div>\n",
       "<style scoped>\n",
       "    .dataframe tbody tr th:only-of-type {\n",
       "        vertical-align: middle;\n",
       "    }\n",
       "\n",
       "    .dataframe tbody tr th {\n",
       "        vertical-align: top;\n",
       "    }\n",
       "\n",
       "    .dataframe thead th {\n",
       "        text-align: right;\n",
       "    }\n",
       "</style>\n",
       "<table border=\"1\" class=\"dataframe\">\n",
       "  <thead>\n",
       "    <tr style=\"text-align: right;\">\n",
       "      <th></th>\n",
       "      <th>#</th>\n",
       "      <th>INCIDENT TITLE</th>\n",
       "      <th>INCIDENT DATE</th>\n",
       "      <th>LOCATION</th>\n",
       "      <th>DESCRIPTION</th>\n",
       "      <th>CATEGORY</th>\n",
       "      <th>LATITUDE</th>\n",
       "      <th>LONGITUDE</th>\n",
       "      <th>Please Check</th>\n",
       "      <th>More Info</th>\n",
       "      <th>APPROVED</th>\n",
       "      <th>VERIFIED</th>\n",
       "    </tr>\n",
       "  </thead>\n",
       "  <tbody>\n",
       "    <tr>\n",
       "      <th>0</th>\n",
       "      <td>12228</td>\n",
       "      <td>stalking</td>\n",
       "      <td>13-05-2019 14:00</td>\n",
       "      <td>Griekwastad, South Africa</td>\n",
       "      <td>guy just started following me</td>\n",
       "      <td>Stalking,</td>\n",
       "      <td>-29.155426</td>\n",
       "      <td>24.325899</td>\n",
       "      <td>NaN</td>\n",
       "      <td>NaN</td>\n",
       "      <td>YES</td>\n",
       "      <td>NO</td>\n",
       "    </tr>\n",
       "    <tr>\n",
       "      <th>1</th>\n",
       "      <td>12227</td>\n",
       "      <td>Catcalling</td>\n",
       "      <td>13-05-2019 07:00</td>\n",
       "      <td>281 Church St, Pietermaritzburg, 3201, South A...</td>\n",
       "      <td>Was walking by the town library</td>\n",
       "      <td>Catcalls/Whistles,</td>\n",
       "      <td>-29.600607</td>\n",
       "      <td>30.379412</td>\n",
       "      <td>NaN</td>\n",
       "      <td>NaN</td>\n",
       "      <td>NO</td>\n",
       "      <td>NO</td>\n",
       "    </tr>\n",
       "    <tr>\n",
       "      <th>2</th>\n",
       "      <td>12226</td>\n",
       "      <td>Catcalling</td>\n",
       "      <td>13-05-2019 07:00</td>\n",
       "      <td>281 Church St, Pietermaritzburg, 3201, South A...</td>\n",
       "      <td>Was walking by the town library</td>\n",
       "      <td>Catcalls/Whistles,</td>\n",
       "      <td>-29.600607</td>\n",
       "      <td>30.379412</td>\n",
       "      <td>NaN</td>\n",
       "      <td>NaN</td>\n",
       "      <td>YES</td>\n",
       "      <td>NO</td>\n",
       "    </tr>\n",
       "    <tr>\n",
       "      <th>3</th>\n",
       "      <td>12225</td>\n",
       "      <td>sexual harassment</td>\n",
       "      <td>08-12-2018 13:00</td>\n",
       "      <td>Kibera, Nairobi, Kenya</td>\n",
       "      <td>In our school there is a male teacher who foll...</td>\n",
       "      <td>Sexual Invites,</td>\n",
       "      <td>-1.312412</td>\n",
       "      <td>36.790618</td>\n",
       "      <td>NaN</td>\n",
       "      <td>NaN</td>\n",
       "      <td>YES</td>\n",
       "      <td>NO</td>\n",
       "    </tr>\n",
       "    <tr>\n",
       "      <th>4</th>\n",
       "      <td>12224</td>\n",
       "      <td>sexual harassment</td>\n",
       "      <td>08-12-2018 13:00</td>\n",
       "      <td>Kibera, Nairobi, Kenya</td>\n",
       "      <td>There is a girl who loves having sex and getti...</td>\n",
       "      <td>Others,</td>\n",
       "      <td>-1.312412</td>\n",
       "      <td>36.790618</td>\n",
       "      <td>NaN</td>\n",
       "      <td>NaN</td>\n",
       "      <td>YES</td>\n",
       "      <td>NO</td>\n",
       "    </tr>\n",
       "  </tbody>\n",
       "</table>\n",
       "</div>"
      ],
      "text/plain": [
       "       #     INCIDENT TITLE     INCIDENT DATE  \\\n",
       "0  12228           stalking  13-05-2019 14:00   \n",
       "1  12227         Catcalling  13-05-2019 07:00   \n",
       "2  12226         Catcalling  13-05-2019 07:00   \n",
       "3  12225  sexual harassment  08-12-2018 13:00   \n",
       "4  12224  sexual harassment  08-12-2018 13:00   \n",
       "\n",
       "                                            LOCATION  \\\n",
       "0                          Griekwastad, South Africa   \n",
       "1  281 Church St, Pietermaritzburg, 3201, South A...   \n",
       "2  281 Church St, Pietermaritzburg, 3201, South A...   \n",
       "3                             Kibera, Nairobi, Kenya   \n",
       "4                             Kibera, Nairobi, Kenya   \n",
       "\n",
       "                                         DESCRIPTION             CATEGORY  \\\n",
       "0                      guy just started following me           Stalking,    \n",
       "1                    Was walking by the town library  Catcalls/Whistles,    \n",
       "2                    Was walking by the town library  Catcalls/Whistles,    \n",
       "3  In our school there is a male teacher who foll...     Sexual Invites,    \n",
       "4  There is a girl who loves having sex and getti...             Others,    \n",
       "\n",
       "    LATITUDE  LONGITUDE Please Check More Info APPROVED VERIFIED  \n",
       "0 -29.155426  24.325899          NaN       NaN      YES       NO  \n",
       "1 -29.600607  30.379412          NaN       NaN       NO       NO  \n",
       "2 -29.600607  30.379412          NaN       NaN      YES       NO  \n",
       "3  -1.312412  36.790618          NaN       NaN      YES       NO  \n",
       "4  -1.312412  36.790618          NaN       NaN      YES       NO  "
      ]
     },
     "execution_count": 1,
     "metadata": {},
     "output_type": "execute_result"
    }
   ],
   "source": [
    "import pandas as pd\n",
    "data = pd.read_csv('data.csv')\n",
    "data.head()"
   ]
  },
  {
   "cell_type": "code",
   "execution_count": 5,
   "metadata": {},
   "outputs": [
    {
     "name": "stdout",
     "output_type": "stream",
     "text": [
      "['#', 'INCIDENT TITLE', 'INCIDENT DATE', 'LOCATION', 'DESCRIPTION', 'CATEGORY', 'LATITUDE', 'LONGITUDE', 'Please Check', 'More Info', 'APPROVED', 'VERIFIED']\n"
     ]
    }
   ],
   "source": [
    "import csv\n",
    "with open(\"data.csv\", 'r') as file:\n",
    "    columns_list = next(csv.reader(file))\n",
    "print(columns_list)"
   ]
  },
  {
   "cell_type": "code",
   "execution_count": 8,
   "metadata": {},
   "outputs": [
    {
     "data": {
      "text/html": [
       "<div>\n",
       "<style scoped>\n",
       "    .dataframe tbody tr th:only-of-type {\n",
       "        vertical-align: middle;\n",
       "    }\n",
       "\n",
       "    .dataframe tbody tr th {\n",
       "        vertical-align: top;\n",
       "    }\n",
       "\n",
       "    .dataframe thead th {\n",
       "        text-align: right;\n",
       "    }\n",
       "</style>\n",
       "<table border=\"1\" class=\"dataframe\">\n",
       "  <thead>\n",
       "    <tr style=\"text-align: right;\">\n",
       "      <th></th>\n",
       "      <th>#</th>\n",
       "      <th>INCIDENT TITLE</th>\n",
       "      <th>INCIDENT DATE</th>\n",
       "      <th>LOCATION</th>\n",
       "      <th>DESCRIPTION</th>\n",
       "      <th>CATEGORY</th>\n",
       "      <th>LATITUDE</th>\n",
       "      <th>LONGITUDE</th>\n",
       "      <th>APPROVED</th>\n",
       "      <th>VERIFIED</th>\n",
       "    </tr>\n",
       "  </thead>\n",
       "  <tbody>\n",
       "    <tr>\n",
       "      <th>0</th>\n",
       "      <td>12228</td>\n",
       "      <td>stalking</td>\n",
       "      <td>13-05-2019 14:00</td>\n",
       "      <td>Griekwastad, South Africa</td>\n",
       "      <td>guy just started following me</td>\n",
       "      <td>Stalking,</td>\n",
       "      <td>-29.155426</td>\n",
       "      <td>24.325899</td>\n",
       "      <td>YES</td>\n",
       "      <td>NO</td>\n",
       "    </tr>\n",
       "    <tr>\n",
       "      <th>1</th>\n",
       "      <td>12227</td>\n",
       "      <td>Catcalling</td>\n",
       "      <td>13-05-2019 07:00</td>\n",
       "      <td>281 Church St, Pietermaritzburg, 3201, South A...</td>\n",
       "      <td>Was walking by the town library</td>\n",
       "      <td>Catcalls/Whistles,</td>\n",
       "      <td>-29.600607</td>\n",
       "      <td>30.379412</td>\n",
       "      <td>NO</td>\n",
       "      <td>NO</td>\n",
       "    </tr>\n",
       "    <tr>\n",
       "      <th>2</th>\n",
       "      <td>12226</td>\n",
       "      <td>Catcalling</td>\n",
       "      <td>13-05-2019 07:00</td>\n",
       "      <td>281 Church St, Pietermaritzburg, 3201, South A...</td>\n",
       "      <td>Was walking by the town library</td>\n",
       "      <td>Catcalls/Whistles,</td>\n",
       "      <td>-29.600607</td>\n",
       "      <td>30.379412</td>\n",
       "      <td>YES</td>\n",
       "      <td>NO</td>\n",
       "    </tr>\n",
       "    <tr>\n",
       "      <th>3</th>\n",
       "      <td>12225</td>\n",
       "      <td>sexual harassment</td>\n",
       "      <td>08-12-2018 13:00</td>\n",
       "      <td>Kibera, Nairobi, Kenya</td>\n",
       "      <td>In our school there is a male teacher who foll...</td>\n",
       "      <td>Sexual Invites,</td>\n",
       "      <td>-1.312412</td>\n",
       "      <td>36.790618</td>\n",
       "      <td>YES</td>\n",
       "      <td>NO</td>\n",
       "    </tr>\n",
       "    <tr>\n",
       "      <th>4</th>\n",
       "      <td>12224</td>\n",
       "      <td>sexual harassment</td>\n",
       "      <td>08-12-2018 13:00</td>\n",
       "      <td>Kibera, Nairobi, Kenya</td>\n",
       "      <td>There is a girl who loves having sex and getti...</td>\n",
       "      <td>Others,</td>\n",
       "      <td>-1.312412</td>\n",
       "      <td>36.790618</td>\n",
       "      <td>YES</td>\n",
       "      <td>NO</td>\n",
       "    </tr>\n",
       "  </tbody>\n",
       "</table>\n",
       "</div>"
      ],
      "text/plain": [
       "       #     INCIDENT TITLE     INCIDENT DATE  \\\n",
       "0  12228           stalking  13-05-2019 14:00   \n",
       "1  12227         Catcalling  13-05-2019 07:00   \n",
       "2  12226         Catcalling  13-05-2019 07:00   \n",
       "3  12225  sexual harassment  08-12-2018 13:00   \n",
       "4  12224  sexual harassment  08-12-2018 13:00   \n",
       "\n",
       "                                            LOCATION  \\\n",
       "0                          Griekwastad, South Africa   \n",
       "1  281 Church St, Pietermaritzburg, 3201, South A...   \n",
       "2  281 Church St, Pietermaritzburg, 3201, South A...   \n",
       "3                             Kibera, Nairobi, Kenya   \n",
       "4                             Kibera, Nairobi, Kenya   \n",
       "\n",
       "                                         DESCRIPTION             CATEGORY  \\\n",
       "0                      guy just started following me           Stalking,    \n",
       "1                    Was walking by the town library  Catcalls/Whistles,    \n",
       "2                    Was walking by the town library  Catcalls/Whistles,    \n",
       "3  In our school there is a male teacher who foll...     Sexual Invites,    \n",
       "4  There is a girl who loves having sex and getti...             Others,    \n",
       "\n",
       "    LATITUDE  LONGITUDE APPROVED VERIFIED  \n",
       "0 -29.155426  24.325899      YES       NO  \n",
       "1 -29.600607  30.379412       NO       NO  \n",
       "2 -29.600607  30.379412      YES       NO  \n",
       "3  -1.312412  36.790618      YES       NO  \n",
       "4  -1.312412  36.790618      YES       NO  "
      ]
     },
     "execution_count": 8,
     "metadata": {},
     "output_type": "execute_result"
    }
   ],
   "source": [
    "# Drop columns with NaN values - Please check and More info\n",
    "data = pd.read_csv(\"data.csv\", usecols = list(set(columns_list) - {'Please Check', 'More Info'}))\n",
    "data.head()"
   ]
  },
  {
   "cell_type": "code",
   "execution_count": 14,
   "metadata": {},
   "outputs": [
    {
     "data": {
      "text/plain": [
       "<matplotlib.axes._subplots.AxesSubplot at 0x207d024c4a8>"
      ]
     },
     "execution_count": 14,
     "metadata": {},
     "output_type": "execute_result"
    },
    {
     "data": {
      "image/png": "[encoded data removed]",
      "text/plain": [
       "<Figure size 432x288 with 1 Axes>"
      ]
     },
     "metadata": {
      "needs_background": "light"
     },
     "output_type": "display_data"
    }
   ],
   "source": [
    "%matplotlib inline\n",
    "data['INCIDENT TITLE'].value_counts()[:20].plot(kind = 'barh')"
   ]
  },
  {
   "cell_type": "code",
   "execution_count": 15,
   "metadata": {},
   "outputs": [
    {
     "data": {
      "text/plain": [
       "sexual harassment                                                                         719\n",
       "Commenting                                                                                622\n",
       "commenting                                                                                380\n",
       "Touching                                                                                  342\n",
       "Sexual Harassment                                                                         324\n",
       "harassment                                                                                304\n",
       "Paharganj                                                                                 287\n",
       "Violence in Cameroon                                                                      274\n",
       "sexual harrasment                                                                         256\n",
       "Dwarka Pilot                                                                              247\n",
       "Sexual harassment                                                                         235\n",
       "Harassment                                                                                232\n",
       "touching                                                                                  177\n",
       "dwarka pilot                                                                              162\n",
       "Stalking                                                                                  159\n",
       "Sexual Harrassement                                                                       141\n",
       "Uttam Nagar                                                                               125\n",
       "inappropriate behaviour                                                                   110\n",
       "Chain snatching                                                                           106\n",
       "sexual  invite                                                                            101\n",
       "stalking                                                                                   88\n",
       "Dwarka pilot                                                                               85\n",
       "sexual invites                                                                             84\n",
       "Groping                                                                                    83\n",
       "Staring                                                                                    80\n",
       "street market sexual harassment report                                                     78\n",
       "Rape                                                                                       73\n",
       "Indecent exposure                                                                          72\n",
       "chain snatching                                                                            70\n",
       "catcalls                                                                                   68\n",
       "                                                                                         ... \n",
       "Stalking, eve teasing, touching,groping                                                     1\n",
       "Stalked almost everyday                                                                     1\n",
       "wistles                                                                                     1\n",
       "sexual harasment                                                                            1\n",
       "Thaeter unsafe zone                                                                         1\n",
       "Harassed at Borivali station                                                                1\n",
       "Stalking at borivali station                                                                1\n",
       "harassed by eunichs                                                                         1\n",
       "Ogling/taking pictures                                                                      1\n",
       "Citimarna                                                                                   1\n",
       "Gujarat incedent                                                                            1\n",
       "Pictures taken at the station/during train ride from Gaya to Kolkata on Howrah Express      1\n",
       "catcalls and whistles                                                                       1\n",
       "A Psycho is after me                                                                        1\n",
       "Groping-Bandra-Mumbai                                                                       1\n",
       "groping, commenting                                                                         1\n",
       "bus inconviences                                                                            1\n",
       "Stalked by 4 boys                                                                           1\n",
       "Stalking, groping and commenting                                                            1\n",
       "bad comment                                                                                 1\n",
       "bandra station                                                                              1\n",
       "Stalking - MJ SS                                                                            1\n",
       "Ogling catcalls and commenting at borivali station                                          1\n",
       "creep on a bus                                                                              1\n",
       "Lewd remarks                                                                                1\n",
       "Ogling and whistling at borivali station                                                    1\n",
       "rizvi edu complex                                                                           1\n",
       "Sexual harassment on public road                                                            1\n",
       "BUS STOP                                                                                    1\n",
       "Harassment in the shared auto rickshaw                                                      1\n",
       "Name: INCIDENT TITLE, Length: 2423, dtype: int64"
      ]
     },
     "execution_count": 15,
     "metadata": {},
     "output_type": "execute_result"
    }
   ],
   "source": [
    "data['INCIDENT TITLE'].value_counts()"
   ]
  },
  {
   "cell_type": "code",
   "execution_count": 16,
   "metadata": {
    "scrolled": false
   },
   "outputs": [
    {
     "data": {
      "text/plain": [
       "Touching /Groping,                                                                                                                                                    1767\n",
       "Commenting,                                                                                                                                                           1353\n",
       "Others,                                                                                                                                                                672\n",
       "Catcalls/Whistles,                                                                                                                                                     598\n",
       "Ogling/Facial Expressions/Staring,                                                                                                                                     531\n",
       "Sexual Invites,                                                                                                                                                        505\n",
       "Catcalls/Whistles, Commenting,                                                                                                                                         495\n",
       "Rape / Sexual Assault,                                                                                                                                                 407\n",
       "Stalking,                                                                                                                                                              329\n",
       "Chain Snatching,                                                                                                                                                       270\n",
       "Commenting, Ogling/Facial Expressions/Staring,                                                                                                                         266\n",
       "Taking pictures,                                                                                                                                                       252\n",
       "Catcalls/Whistles, Commenting, Ogling/Facial Expressions/Staring,                                                                                                      248\n",
       "Indecent exposure,                                                                                                                                                     227\n",
       "Commenting, Touching /Groping,                                                                                                                                         191\n",
       "Touching /Groping, Sexual Invites,                                                                                                                                     113\n",
       "Poor / No Street Lighting,                                                                                                                                             113\n",
       "Ogling/Facial Expressions/Staring, Touching /Groping,                                                                                                                  102\n",
       "Commenting, Stalking,                                                                                                                                                   99\n",
       "Catcalls/Whistles, Ogling/Facial Expressions/Staring,                                                                                                                   91\n",
       "Commenting, Others,                                                                                                                                                     87\n",
       "Catcalls/Whistles, Commenting, Touching /Groping,                                                                                                                       83\n",
       "Commenting, Taking pictures,                                                                                                                                            73\n",
       "Commenting, Sexual Invites,                                                                                                                                             61\n",
       "Catcalls/Whistles, Commenting, Ogling/Facial Expressions/Staring, Touching /Groping,                                                                                    60\n",
       "Commenting, Ogling/Facial Expressions/Staring, Touching /Groping,                                                                                                       57\n",
       "Touching /Groping, Indecent exposure,                                                                                                                                   51\n",
       "Catcalls/Whistles, Touching /Groping,                                                                                                                                   50\n",
       "Ogling/Facial Expressions/Staring, Catcalls/Whistles, Commenting,                                                                                                       49\n",
       "Catcalls/Whistles, Commenting, Others,                                                                                                                                  45\n",
       "                                                                                                                                                                      ... \n",
       "Commenting, Stalking, Poor / No Street Lighting, Others,                                                                                                                 1\n",
       "Commenting, Touching /Groping, Sexual Invites, Others,                                                                                                                   1\n",
       "Touching /Groping, Sexual Invites, Rape / Sexual Assault, Others,                                                                                                        1\n",
       "Ogling/Facial Expressions/Staring, Stalking, Catcalls/Whistles, Commenting, Touching /Groping, Rape / Sexual Assault, Poor / No Street Lighting, Chain Snatching,        1\n",
       "Commenting, Ogling/Facial Expressions/Staring, Taking pictures, Touching /Groping, Indecent exposure, Sexual Invites,                                                    1\n",
       "Commenting, Taking pictures, Poor / No Street Lighting,                                                                                                                  1\n",
       "Others, Touching /Groping,                                                                                                                                               1\n",
       "Catcalls/Whistles, Taking pictures, Touching /Groping, Indecent exposure,                                                                                                1\n",
       "Others, Ogling/Facial Expressions/Staring,                                                                                                                               1\n",
       "Catcalls/Whistles, Stalking, Taking pictures,                                                                                                                            1\n",
       "Catcalls/Whistles, Ogling/Facial Expressions/Staring, Stalking, Taking pictures, Touching /Groping,                                                                      1\n",
       "Indecent exposure, Chain Snatching,                                                                                                                                      1\n",
       "Catcalls/Whistles, Sexual Invites, North East India Report,                                                                                                              1\n",
       "Stalking, Touching /Groping, Poor / No Street Lighting, Chain Snatching,                                                                                                 1\n",
       "Commenting, Ogling/Facial Expressions/Staring, Taking pictures, Indecent exposure, Sexual Invites,                                                                       1\n",
       "Catcalls/Whistles, Commenting, Ogling/Facial Expressions/Staring, Stalking, Touching /Groping, Poor / No Street Lighting,                                                1\n",
       "Commenting, Stalking, Chain Snatching,                                                                                                                                   1\n",
       "Catcalls/Whistles, Commenting, Stalking, Indecent exposure,                                                                                                              1\n",
       "Catcalls/Whistles, Ogling/Facial Expressions/Staring, Touching /Groping, Indecent exposure,                                                                              1\n",
       "Online Harassment, Stalking, Taking pictures, Catcalls/Whistles, Commenting,                                                                                             1\n",
       "Catcalls/Whistles, Commenting, Sexual Invites, Poor / No Street Lighting,                                                                                                1\n",
       "Catcalls/Whistles, Commenting, Indecent exposure, Sexual Invites, Others,                                                                                                1\n",
       "Ogling/Facial Expressions/Staring, Taking pictures, Commenting, Indecent exposure, Touching /Groping, Poor / No Street Lighting,                                         1\n",
       "Catcalls/Whistles, Touching /Groping, Chain Snatching,                                                                                                                   1\n",
       "Catcalls/Whistles, Taking pictures, Touching /Groping, Others,                                                                                                           1\n",
       "Catcalls/Whistles, Sexual Invites, Others,                                                                                                                               1\n",
       "Ogling/Facial Expressions/Staring, Catcalls/Whistles, Commenting, Touching /Groping, Sexual Invites, Stalking,                                                           1\n",
       "Sexual Invites, Rape / Sexual Assault, Poor / No Street Lighting,                                                                                                        1\n",
       "Taking pictures, Catcalls/Whistles, Commenting, Touching /Groping, Sexual Invites, Rape / Sexual Assault,                                                                1\n",
       "Ogling/Facial Expressions/Staring, Taking pictures, Catcalls/Whistles, Touching /Groping,                                                                                1\n",
       "Name: CATEGORY, Length: 593, dtype: int64"
      ]
     },
     "execution_count": 16,
     "metadata": {},
     "output_type": "execute_result"
    }
   ],
   "source": [
    "data['CATEGORY'].value_counts()"
   ]
  },
  {
   "cell_type": "code",
   "execution_count": 17,
   "metadata": {},
   "outputs": [
    {
     "data": {
      "text/plain": [
       "<matplotlib.axes._subplots.AxesSubplot at 0x207cf935f28>"
      ]
     },
     "execution_count": 17,
     "metadata": {},
     "output_type": "execute_result"
    },
    {
     "data": {
      "image/png": "[encoded data removed]",
      "text/plain": [
       "<Figure size 432x288 with 1 Axes>"
      ]
     },
     "metadata": {
      "needs_background": "light"
     },
     "output_type": "display_data"
    }
   ],
   "source": [
    "data['CATEGORY'].value_counts()[:20].plot(kind = 'barh')"
   ]
  },
  {
   "cell_type": "code",
   "execution_count": null,
   "metadata": {},
   "outputs": [],
   "source": []
  }
 ],
 "metadata": {
  "kernelspec": {
   "display_name": "Python 3",
   "language": "python",
   "name": "python3"
  },
  "language_info": {
   "codemirror_mode": {
    "name": "ipython",
    "version": 3
   },
   "file_extension": ".py",
   "mimetype": "text/x-python",
   "name": "python",
   "nbconvert_exporter": "python",
   "pygments_lexer": "ipython3",
   "version": "3.7.0"
  }
 },
 "nbformat": 4,
 "nbformat_minor": 2
}
